{
 "cells": [
  {
   "cell_type": "code",
   "execution_count": 57,
   "id": "ed25d86d-fb1d-4c1a-bb19-c1dec1d32699",
   "metadata": {
    "tags": []
   },
   "outputs": [
    {
     "data": {
      "image/png": "[encoded data removed]",
      "text/plain": [
       "<Figure size 640x480 with 1 Axes>"
      ]
     },
     "metadata": {},
     "output_type": "display_data"
    }
   ],
   "source": [
    "import matplotlib.pyplot as plt\n",
    "import numpy as np\n",
    "import math\n",
    "import random\n",
    "\n",
    "\n",
    "dataset  = [[10,9,\"Good Student\"], [9.2,9.5,\"Good Student\"], [9,9.3,\"Good Student\"], [9.8,8.5,\"Good Student\"], [8,9,\"Good Student\"], [9.3,8.7,\"Good Student\"], [8.8,8.7,\"Good Student\"]]\n",
    "\n",
    "for i in range(200):\n",
    "    r1 = random.randint(1,70)\n",
    "    r1 = r1/10\n",
    "    r2 = random.randint(1,100)\n",
    "    r2 = r2/10\n",
    "    if ((r1+r2)/2) < 5:\n",
    "        dataset.append([r1, r2, \"Bad Student\"])\n",
    "    else:\n",
    "        dataset.append([r1, r2, \"Good Student\"])\n",
    "    \n",
    "\n",
    "x1 = []\n",
    "y1 = []\n",
    "\n",
    "x2 = []\n",
    "y2 = []\n",
    "\n",
    "testP1 = [1,1]\n",
    "testP2 = [9,9]\n",
    "boo = []\n",
    "haa = []\n",
    "\n",
    "minimum = math.inf\n",
    "res = None\n",
    "for i in dataset:\n",
    "    z = [i[0], i[1]]\n",
    "    vec1 = np.subtract(z, testP1)\n",
    "    vec2 = np.subtract(z, testP2)\n",
    "    l1 = math.sqrt((vec1[0]**2 + vec1[1]**2))\n",
    "    l2 = math.sqrt((vec2[0]**2 + vec2[1]**2))\n",
    "    if l1 > l2:\n",
    "        boo.append(z)\n",
    "    else:\n",
    "        haa.append(z)\n",
    "\n",
    "def density():\n",
    "    for j in boo:\n",
    "        for i in haa:\n",
    "            v1 = np.subtract(j,testP2)\n",
    "            v2 = np.subtract(j,i)\n",
    "            len1 = math.sqrt((v1[0]**2 + v1[1]**2))\n",
    "            len2 = math.sqrt((v2[0]**2 + v2[1]**2))\n",
    "            if len1 > len2:\n",
    "                if j in boo:\n",
    "                    boo.remove(j)\n",
    "                    haa.append(j)\n",
    "            else:\n",
    "                    haa.remove(i)\n",
    "                    haa.append(i)\n",
    "    for j in boo[::-1]:\n",
    "        for i in haa:\n",
    "            v1 = np.subtract(j,testP2)\n",
    "            v2 = np.subtract(j,i)\n",
    "            len1 = math.sqrt((v1[0]**2 + v1[1]**2))\n",
    "            len2 = math.sqrt((v2[0]**2 + v2[1]**2))\n",
    "            if len1 > len2:\n",
    "                if j in boo:\n",
    "                    boo.remove(j)\n",
    "                    haa.append(j)\n",
    "            else:\n",
    "                    haa.remove(i)\n",
    "                    haa.append(i)\n",
    "\n",
    "density()\n",
    "        \n",
    "for i in boo:\n",
    "    x1.append(i[0])\n",
    "    y1.append(i[1])\n",
    "\n",
    "for i in haa:\n",
    "    x2.append(i[0])\n",
    "    y2.append(i[1])\n",
    "\n",
    "\n",
    "plt.plot(x1,y1, 'yo')\n",
    "plt.plot(x2,y2, 'mo')\n",
    "plt.plot(testP1[0],testP1[1], 'bs')\n",
    "plt.plot(testP2[0],testP2[1], 'rs')\n",
    "plt.axis([0, 10, 0, 10])\n",
    "plt.show()"
   ]
  },
  {
   "cell_type": "code",
   "execution_count": null,
   "id": "6fbf0591-9c3a-440a-8e2d-d42e5d9190a9",
   "metadata": {},
   "outputs": [],
   "source": []
  }
 ],
 "metadata": {
  "kernelspec": {
   "display_name": "Python 3 (ipykernel)",
   "language": "python",
   "name": "python3"
  },
  "language_info": {
   "codemirror_mode": {
    "name": "ipython",
    "version": 3
   },
   "file_extension": ".py",
   "mimetype": "text/x-python",
   "name": "python",
   "nbconvert_exporter": "python",
   "pygments_lexer": "ipython3",
   "version": "3.8.7"
  }
 },
 "nbformat": 4,
 "nbformat_minor": 5
}
