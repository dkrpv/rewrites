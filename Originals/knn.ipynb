{
 "cells": [
  {
   "cell_type": "code",
   "execution_count": 1,
   "id": "4bbe1e15-ceb1-4a04-b2f0-3b98f226033e",
   "metadata": {},
   "outputs": [
    {
     "name": "stdin",
     "output_type": "stream",
     "text": [
      "val1:  3\n",
      "val2:  3\n"
     ]
    },
    {
     "name": "stdout",
     "output_type": "stream",
     "text": [
      "Length:  0.22360679774997916\n",
      "Bad Student\n"
     ]
    },
    {
     "data": {
      "image/png": "[encoded data removed]",
      "text/plain": [
       "<Figure size 640x480 with 1 Axes>"
      ]
     },
     "metadata": {},
     "output_type": "display_data"
    }
   ],
   "source": [
    "import matplotlib.pyplot as plt\n",
    "import numpy as np\n",
    "import math\n",
    "import random\n",
    "\n",
    "dataset  = [[1.5,2.5,\"Bad Student\"], [2.3,2,\"Bad Student\"], [3.2,2.7,\"Bad Student\"], [7.2,8,\"Good Student\"], [8,6,\"Good Student\"], [9,7,\"Good Student\"]]\n",
    "\n",
    "for i in range(100):\n",
    "    r1 = random.randint(1,100)\n",
    "    r1 = r1/10\n",
    "    r2 = random.randint(1,100)\n",
    "    r2 = r2/10\n",
    "    if ((r1+r2)/2) < 5:\n",
    "        dataset.append([r1, r2, \"Bad Student\"])\n",
    "    else:\n",
    "        dataset.append([r1, r2, \"Good Student\"])\n",
    "    \n",
    "\n",
    "x = []\n",
    "y= []\n",
    "\n",
    "for i in dataset:\n",
    "    x.append(i[0])\n",
    "    y.append(i[1])\n",
    "\n",
    "in1 = int(input(\"val1: \"))\n",
    "in2 = int(input(\"val2: \"))\n",
    "new = [in1, in2]\n",
    "\n",
    "minimum = math.inf\n",
    "res = None\n",
    "for i in dataset:\n",
    "    z = [i[0], i[1]]\n",
    "    vec = np.subtract(z, new)\n",
    "    l = math.sqrt((vec[0]**2 + vec[1]**2))\n",
    "    if l < minimum:\n",
    "        minimum = l\n",
    "        res = i[2]\n",
    "\n",
    "print(\"Length: \",  minimum)\n",
    "print(res)\n",
    "plt.plot(x,y, 'ro')\n",
    "plt.plot(new[0], new[1], 'go')\n",
    "plt.axis([0, 10, 0, 10])\n",
    "plt.show()"
   ]
  },
  {
   "cell_type": "code",
   "execution_count": null,
   "id": "9c9c36b2-e082-4716-8c95-9955e17ab836",
   "metadata": {},
   "outputs": [],
   "source": []
  }
 ],
 "metadata": {
  "kernelspec": {
   "display_name": "Python 3 (ipykernel)",
   "language": "python",
   "name": "python3"
  },
  "language_info": {
   "codemirror_mode": {
    "name": "ipython",
    "version": 3
   },
   "file_extension": ".py",
   "mimetype": "text/x-python",
   "name": "python",
   "nbconvert_exporter": "python",
   "pygments_lexer": "ipython3",
   "version": "3.8.7"
  }
 },
 "nbformat": 4,
 "nbformat_minor": 5
}
